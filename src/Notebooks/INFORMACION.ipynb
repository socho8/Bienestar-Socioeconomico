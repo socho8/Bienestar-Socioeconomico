{
 "cells": [
  {
   "attachments": {},
   "cell_type": "markdown",
   "metadata": {},
   "source": [
    "# INFORMACIÓN DEL PROYECTO"
   ]
  },
  {
   "attachments": {},
   "cell_type": "markdown",
   "metadata": {},
   "source": [
    "EL GRADO DE EDUCACION DE UNA POBLACION AFECTA AL BIENESTAR ECONOMICO Y SOCIAL?"
   ]
  },
  {
   "cell_type": "code",
   "execution_count": 2,
   "metadata": {},
   "outputs": [],
   "source": [
    "#TITULO\n",
    "titulo = \"EL GRADO DE EDUCACION DE UNA POBLACION AFECTA AL BIENESTAR ECONOMICO Y SOCIAL?\""
   ]
  },
  {
   "attachments": {},
   "cell_type": "markdown",
   "metadata": {},
   "source": [
    "## TEMA"
   ]
  },
  {
   "attachments": {},
   "cell_type": "markdown",
   "metadata": {},
   "source": [
    "##### En esta proyecto analizaremos variables como indice de homicidios, pbi per capita, nivel de educacion de la poblacion, indice de desarrollo humano, porcentaje de desemplo, tasa dde pobreza y veremos como cada una de ellas estan relacionadas entre si"
   ]
  },
  {
   "cell_type": "code",
   "execution_count": 3,
   "metadata": {},
   "outputs": [],
   "source": [
    "# TEMA DEL PROYECTO\n",
    "tema = \"\"\"En esta proyecto analizaremos variables como indice de homicidios, pbi per capita, nivel de educacion de la poblacion, indice de desarrollo humano, porcentaje de desemplo\n",
    ", tasa dde pobreza y veremos como cada una de ellas estan relacionadas entre si\"\"\""
   ]
  },
  {
   "attachments": {},
   "cell_type": "markdown",
   "metadata": {},
   "source": [
    "## HIPÓTESIS"
   ]
  },
  {
   "attachments": {},
   "cell_type": "markdown",
   "metadata": {},
   "source": [
    "Define aquí lo que será la hipótesis de tu proyecto.\n",
    "Deberás tener más de una, pero tu proyecto lo harás teniendo una principal hipótesis."
   ]
  },
  {
   "attachments": {},
   "cell_type": "markdown",
   "metadata": {},
   "source": [
    "### HIPOTESIS GENERAL: \n",
    "#### \"¿En una sociedad con mayor nivel de analfabetismo hay mayor indice de delitos? \""
   ]
  },
  {
   "cell_type": "code",
   "execution_count": 4,
   "metadata": {},
   "outputs": [],
   "source": [
    "# HIPOTESIS GENERAL\n",
    "hipotesis_1 = \"Una sociedad mas analfabeta genera mayor indice de delitos en la misma?\""
   ]
  },
  {
   "attachments": {},
   "cell_type": "markdown",
   "metadata": {},
   "source": [
    "### HIPOTESIS ALTERNATIVAS\n",
    "#### -Un mayor grado de educacion provoca un aumento en el PBI per capita\n",
    "#### -Mientras menos rica sea la poblacion y menor grado de educacion tengan, mayor indice de homicidios habra\n",
    "#### -Un mayor grado de educacion esta relacionado con un menor grado de desempleo\n",
    "#### -Un mayor indice de desarrollo humano provoca que la pobreza sea menor"
   ]
  },
  {
   "cell_type": "code",
   "execution_count": 5,
   "metadata": {},
   "outputs": [],
   "source": [
    "# HIPOTESIS ALTERNATIVAS\n",
    "hipotesis_2 = \"Un mayor grado de educacion provoca un aumento en el PBI per capita\"\n",
    "hipotesis_3 = \"Mientras menos rica sea la poblacion y menor grado de educacion tengan, mayor indice de homicidios habra\"\n",
    "hipotesis_4 = \"Un mayor grado de educacion esta relacionado con un menor grado de desempleo\"\n",
    "hipotesis_5 = \"Un mayor indice de desarrollo humano provoca que la pobreza sea menor\"\n",
    "\n"
   ]
  },
  {
   "attachments": {},
   "cell_type": "markdown",
   "metadata": {},
   "source": [
    "## OBTENCIÓN DE LOS DATOS"
   ]
  },
  {
   "attachments": {},
   "cell_type": "markdown",
   "metadata": {},
   "source": [
    "### DATASETS Y FUENTES ALTERNATIVAS DE DATOS"
   ]
  },
  {
   "attachments": {},
   "cell_type": "markdown",
   "metadata": {},
   "source": [
    "Incluye aquí una vista del dataset o datasets de los que partirás para poder evaluar tu hipótesis. <br>\n",
    "También incluye el origen de estos datos y su fuente."
   ]
  },
  {
   "cell_type": "code",
   "execution_count": 6,
   "metadata": {},
   "outputs": [],
   "source": [
    "import pandas as pd\n",
    "\n",
    "#DATASETS Y SU FUENTE\n",
    "df_1 = pd.read_csv('delitos.csv')\n",
    "fuente_1 = \"http://data.un.org/default.aspx\"\n",
    "\n",
    "df_2 = pd.read_csv('poblacion.csv')\n",
    "fuente_2 = \"http://data.un.org/default.aspx\"\n",
    "\n",
    "df_3 = pd.read_csv('pbi.csv')\n",
    "fuente_3 = \"https://ourworldindata.org/grapher/gdp-per-capita-worldbank\"\n",
    "\n",
    "df_4 = pd.read_csv('desempleo.csv')\n",
    "fuente_4 = \"http://data.un.org/default.aspx\"\n",
    "\n",
    "df_5 = pd.read_csv('idh.csv')\n",
    "fuente_5 = \"https://ourworldindata.org/human-development-index\"\n",
    "\n",
    "#Tasa de pobreza:\n",
    "fuente_6 = \"https://en.wikipedia.org/wiki/List_of_sovereign_states_by_percentage_of_population_living_in_poverty\"\n",
    "\n"
   ]
  },
  {
   "attachments": {},
   "cell_type": "markdown",
   "metadata": {},
   "source": [
    "Muestra mediante un head() los principales datasets con los que vas a trabajar"
   ]
  },
  {
   "cell_type": "code",
   "execution_count": 7,
   "metadata": {},
   "outputs": [
    {
     "data": {
      "text/html": [
       "<div>\n",
       "<style scoped>\n",
       "    .dataframe tbody tr th:only-of-type {\n",
       "        vertical-align: middle;\n",
       "    }\n",
       "\n",
       "    .dataframe tbody tr th {\n",
       "        vertical-align: top;\n",
       "    }\n",
       "\n",
       "    .dataframe thead th {\n",
       "        text-align: right;\n",
       "    }\n",
       "</style>\n",
       "<table border=\"1\" class=\"dataframe\">\n",
       "  <thead>\n",
       "    <tr style=\"text-align: right;\">\n",
       "      <th></th>\n",
       "      <th>T13</th>\n",
       "      <th>Intentional homicides and other crimes</th>\n",
       "      <th>Unnamed: 2</th>\n",
       "      <th>Unnamed: 3</th>\n",
       "      <th>Unnamed: 4</th>\n",
       "      <th>Unnamed: 5</th>\n",
       "      <th>Unnamed: 6</th>\n",
       "    </tr>\n",
       "  </thead>\n",
       "  <tbody>\n",
       "    <tr>\n",
       "      <th>0</th>\n",
       "      <td>Region/Country/Area</td>\n",
       "      <td>NaN</td>\n",
       "      <td>Year</td>\n",
       "      <td>Series</td>\n",
       "      <td>Value</td>\n",
       "      <td>Footnotes</td>\n",
       "      <td>Source</td>\n",
       "    </tr>\n",
       "    <tr>\n",
       "      <th>1</th>\n",
       "      <td>1</td>\n",
       "      <td>Total, all countries or areas</td>\n",
       "      <td>2005</td>\n",
       "      <td>Intentional homicide rates per 100,000</td>\n",
       "      <td>6.3</td>\n",
       "      <td>Estimate.</td>\n",
       "      <td>United Nations Office on Drugs and Crime (UNOD...</td>\n",
       "    </tr>\n",
       "    <tr>\n",
       "      <th>2</th>\n",
       "      <td>1</td>\n",
       "      <td>Total, all countries or areas</td>\n",
       "      <td>2005</td>\n",
       "      <td>Percentage of male and female intentional homi...</td>\n",
       "      <td>10.1</td>\n",
       "      <td>Estimate.</td>\n",
       "      <td>United Nations Office on Drugs and Crime (UNOD...</td>\n",
       "    </tr>\n",
       "    <tr>\n",
       "      <th>3</th>\n",
       "      <td>1</td>\n",
       "      <td>Total, all countries or areas</td>\n",
       "      <td>2005</td>\n",
       "      <td>Percentage of male and female intentional homi...</td>\n",
       "      <td>2.4</td>\n",
       "      <td>Estimate.</td>\n",
       "      <td>United Nations Office on Drugs and Crime (UNOD...</td>\n",
       "    </tr>\n",
       "    <tr>\n",
       "      <th>4</th>\n",
       "      <td>1</td>\n",
       "      <td>Total, all countries or areas</td>\n",
       "      <td>2010</td>\n",
       "      <td>Intentional homicide rates per 100,000</td>\n",
       "      <td>6.1</td>\n",
       "      <td>Estimate.</td>\n",
       "      <td>United Nations Office on Drugs and Crime (UNOD...</td>\n",
       "    </tr>\n",
       "  </tbody>\n",
       "</table>\n",
       "</div>"
      ],
      "text/plain": [
       "                   T13 Intentional homicides and other crimes Unnamed: 2  \\\n",
       "0  Region/Country/Area                                    NaN       Year   \n",
       "1                    1          Total, all countries or areas       2005   \n",
       "2                    1          Total, all countries or areas       2005   \n",
       "3                    1          Total, all countries or areas       2005   \n",
       "4                    1          Total, all countries or areas       2010   \n",
       "\n",
       "                                          Unnamed: 3 Unnamed: 4 Unnamed: 5  \\\n",
       "0                                             Series      Value  Footnotes   \n",
       "1             Intentional homicide rates per 100,000        6.3  Estimate.   \n",
       "2  Percentage of male and female intentional homi...       10.1  Estimate.   \n",
       "3  Percentage of male and female intentional homi...        2.4  Estimate.   \n",
       "4             Intentional homicide rates per 100,000        6.1  Estimate.   \n",
       "\n",
       "                                          Unnamed: 6  \n",
       "0                                             Source  \n",
       "1  United Nations Office on Drugs and Crime (UNOD...  \n",
       "2  United Nations Office on Drugs and Crime (UNOD...  \n",
       "3  United Nations Office on Drugs and Crime (UNOD...  \n",
       "4  United Nations Office on Drugs and Crime (UNOD...  "
      ]
     },
     "execution_count": 7,
     "metadata": {},
     "output_type": "execute_result"
    }
   ],
   "source": [
    "# Primer dataset\n",
    "df_1.head()\n"
   ]
  },
  {
   "cell_type": "code",
   "execution_count": 8,
   "metadata": {},
   "outputs": [
    {
     "name": "stdout",
     "output_type": "stream",
     "text": [
      "<class 'pandas.core.frame.DataFrame'>\n",
      "RangeIndex: 4866 entries, 0 to 4865\n",
      "Data columns (total 7 columns):\n",
      " #   Column                                  Non-Null Count  Dtype \n",
      "---  ------                                  --------------  ----- \n",
      " 0   T13                                     4866 non-null   object\n",
      " 1   Intentional homicides and other crimes  4865 non-null   object\n",
      " 2   Unnamed: 2                              4866 non-null   object\n",
      " 3   Unnamed: 3                              4866 non-null   object\n",
      " 4   Unnamed: 4                              4866 non-null   object\n",
      " 5   Unnamed: 5                              217 non-null    object\n",
      " 6   Unnamed: 6                              4866 non-null   object\n",
      "dtypes: object(7)\n",
      "memory usage: 266.2+ KB\n"
     ]
    }
   ],
   "source": [
    "df_1.info()"
   ]
  },
  {
   "cell_type": "code",
   "execution_count": 9,
   "metadata": {},
   "outputs": [
    {
     "data": {
      "text/html": [
       "<div>\n",
       "<style scoped>\n",
       "    .dataframe tbody tr th:only-of-type {\n",
       "        vertical-align: middle;\n",
       "    }\n",
       "\n",
       "    .dataframe tbody tr th {\n",
       "        vertical-align: top;\n",
       "    }\n",
       "\n",
       "    .dataframe thead th {\n",
       "        text-align: right;\n",
       "    }\n",
       "</style>\n",
       "<table border=\"1\" class=\"dataframe\">\n",
       "  <thead>\n",
       "    <tr style=\"text-align: right;\">\n",
       "      <th></th>\n",
       "      <th>T08</th>\n",
       "      <th>Enrolment in primary, secondary and tertiary education levels</th>\n",
       "      <th>Unnamed: 2</th>\n",
       "      <th>Unnamed: 3</th>\n",
       "      <th>Unnamed: 4</th>\n",
       "      <th>Unnamed: 5</th>\n",
       "      <th>Unnamed: 6</th>\n",
       "    </tr>\n",
       "  </thead>\n",
       "  <tbody>\n",
       "    <tr>\n",
       "      <th>0</th>\n",
       "      <td>Region/Country/Area</td>\n",
       "      <td>NaN</td>\n",
       "      <td>Year</td>\n",
       "      <td>Series</td>\n",
       "      <td>Value</td>\n",
       "      <td>Footnotes</td>\n",
       "      <td>Source</td>\n",
       "    </tr>\n",
       "    <tr>\n",
       "      <th>1</th>\n",
       "      <td>1</td>\n",
       "      <td>Total, all countries or areas</td>\n",
       "      <td>2005</td>\n",
       "      <td>Students enrolled in primary education (thousa...</td>\n",
       "      <td>679,014</td>\n",
       "      <td>NaN</td>\n",
       "      <td>United Nations Educational, Scientific and Cul...</td>\n",
       "    </tr>\n",
       "    <tr>\n",
       "      <th>2</th>\n",
       "      <td>1</td>\n",
       "      <td>Total, all countries or areas</td>\n",
       "      <td>2005</td>\n",
       "      <td>Gross enrollment ratio - Primary (male)</td>\n",
       "      <td>104.5</td>\n",
       "      <td>NaN</td>\n",
       "      <td>United Nations Educational, Scientific and Cul...</td>\n",
       "    </tr>\n",
       "    <tr>\n",
       "      <th>3</th>\n",
       "      <td>1</td>\n",
       "      <td>Total, all countries or areas</td>\n",
       "      <td>2005</td>\n",
       "      <td>Gross enrollment ratio - Primary (female)</td>\n",
       "      <td>99.7</td>\n",
       "      <td>NaN</td>\n",
       "      <td>United Nations Educational, Scientific and Cul...</td>\n",
       "    </tr>\n",
       "    <tr>\n",
       "      <th>4</th>\n",
       "      <td>1</td>\n",
       "      <td>Total, all countries or areas</td>\n",
       "      <td>2005</td>\n",
       "      <td>Students enrolled in secondary education (thou...</td>\n",
       "      <td>509,277</td>\n",
       "      <td>NaN</td>\n",
       "      <td>United Nations Educational, Scientific and Cul...</td>\n",
       "    </tr>\n",
       "  </tbody>\n",
       "</table>\n",
       "</div>"
      ],
      "text/plain": [
       "                   T08  \\\n",
       "0  Region/Country/Area   \n",
       "1                    1   \n",
       "2                    1   \n",
       "3                    1   \n",
       "4                    1   \n",
       "\n",
       "  Enrolment in primary, secondary and tertiary education levels Unnamed: 2  \\\n",
       "0                                                NaN                  Year   \n",
       "1                      Total, all countries or areas                  2005   \n",
       "2                      Total, all countries or areas                  2005   \n",
       "3                      Total, all countries or areas                  2005   \n",
       "4                      Total, all countries or areas                  2005   \n",
       "\n",
       "                                          Unnamed: 3 Unnamed: 4 Unnamed: 5  \\\n",
       "0                                             Series      Value  Footnotes   \n",
       "1  Students enrolled in primary education (thousa...    679,014        NaN   \n",
       "2            Gross enrollment ratio - Primary (male)      104.5        NaN   \n",
       "3          Gross enrollment ratio - Primary (female)       99.7        NaN   \n",
       "4  Students enrolled in secondary education (thou...    509,277        NaN   \n",
       "\n",
       "                                          Unnamed: 6  \n",
       "0                                             Source  \n",
       "1  United Nations Educational, Scientific and Cul...  \n",
       "2  United Nations Educational, Scientific and Cul...  \n",
       "3  United Nations Educational, Scientific and Cul...  \n",
       "4  United Nations Educational, Scientific and Cul...  "
      ]
     },
     "execution_count": 9,
     "metadata": {},
     "output_type": "execute_result"
    }
   ],
   "source": [
    "# Segundo dataset\n",
    "df_2.head()"
   ]
  },
  {
   "cell_type": "code",
   "execution_count": 10,
   "metadata": {},
   "outputs": [
    {
     "name": "stdout",
     "output_type": "stream",
     "text": [
      "<class 'pandas.core.frame.DataFrame'>\n",
      "RangeIndex: 7283 entries, 0 to 7282\n",
      "Data columns (total 7 columns):\n",
      " #   Column                                                         Non-Null Count  Dtype \n",
      "---  ------                                                         --------------  ----- \n",
      " 0   T08                                                            7283 non-null   object\n",
      " 1   Enrolment in primary, secondary and tertiary education levels  7282 non-null   object\n",
      " 2   Unnamed: 2                                                     7283 non-null   object\n",
      " 3   Unnamed: 3                                                     7283 non-null   object\n",
      " 4   Unnamed: 4                                                     7283 non-null   object\n",
      " 5   Unnamed: 5                                                     696 non-null    object\n",
      " 6   Unnamed: 6                                                     7283 non-null   object\n",
      "dtypes: object(7)\n",
      "memory usage: 398.4+ KB\n"
     ]
    }
   ],
   "source": [
    "df_2.info()"
   ]
  },
  {
   "cell_type": "code",
   "execution_count": 11,
   "metadata": {},
   "outputs": [
    {
     "data": {
      "text/html": [
       "<div>\n",
       "<style scoped>\n",
       "    .dataframe tbody tr th:only-of-type {\n",
       "        vertical-align: middle;\n",
       "    }\n",
       "\n",
       "    .dataframe tbody tr th {\n",
       "        vertical-align: top;\n",
       "    }\n",
       "\n",
       "    .dataframe thead th {\n",
       "        text-align: right;\n",
       "    }\n",
       "</style>\n",
       "<table border=\"1\" class=\"dataframe\">\n",
       "  <thead>\n",
       "    <tr style=\"text-align: right;\">\n",
       "      <th></th>\n",
       "      <th>T14</th>\n",
       "      <th>Gross domestic product and gross domestic product per capita</th>\n",
       "      <th>Unnamed: 2</th>\n",
       "      <th>Unnamed: 3</th>\n",
       "      <th>Unnamed: 4</th>\n",
       "      <th>Unnamed: 5</th>\n",
       "      <th>Unnamed: 6</th>\n",
       "    </tr>\n",
       "  </thead>\n",
       "  <tbody>\n",
       "    <tr>\n",
       "      <th>0</th>\n",
       "      <td>Region/Country/Area</td>\n",
       "      <td>NaN</td>\n",
       "      <td>Year</td>\n",
       "      <td>Series</td>\n",
       "      <td>Value</td>\n",
       "      <td>Footnotes</td>\n",
       "      <td>Source</td>\n",
       "    </tr>\n",
       "    <tr>\n",
       "      <th>1</th>\n",
       "      <td>1</td>\n",
       "      <td>Total, all countries or areas</td>\n",
       "      <td>1995</td>\n",
       "      <td>GDP in current prices (millions of US dollars)</td>\n",
       "      <td>31,247,262</td>\n",
       "      <td>NaN</td>\n",
       "      <td>United Nations Statistics Division, New York, ...</td>\n",
       "    </tr>\n",
       "    <tr>\n",
       "      <th>2</th>\n",
       "      <td>1</td>\n",
       "      <td>Total, all countries or areas</td>\n",
       "      <td>2005</td>\n",
       "      <td>GDP in current prices (millions of US dollars)</td>\n",
       "      <td>47,730,924</td>\n",
       "      <td>NaN</td>\n",
       "      <td>United Nations Statistics Division, New York, ...</td>\n",
       "    </tr>\n",
       "    <tr>\n",
       "      <th>3</th>\n",
       "      <td>1</td>\n",
       "      <td>Total, all countries or areas</td>\n",
       "      <td>2010</td>\n",
       "      <td>GDP in current prices (millions of US dollars)</td>\n",
       "      <td>66,461,443</td>\n",
       "      <td>NaN</td>\n",
       "      <td>United Nations Statistics Division, New York, ...</td>\n",
       "    </tr>\n",
       "    <tr>\n",
       "      <th>4</th>\n",
       "      <td>1</td>\n",
       "      <td>Total, all countries or areas</td>\n",
       "      <td>2015</td>\n",
       "      <td>GDP in current prices (millions of US dollars)</td>\n",
       "      <td>75,133,208</td>\n",
       "      <td>NaN</td>\n",
       "      <td>United Nations Statistics Division, New York, ...</td>\n",
       "    </tr>\n",
       "  </tbody>\n",
       "</table>\n",
       "</div>"
      ],
      "text/plain": [
       "                   T14  \\\n",
       "0  Region/Country/Area   \n",
       "1                    1   \n",
       "2                    1   \n",
       "3                    1   \n",
       "4                    1   \n",
       "\n",
       "  Gross domestic product and gross domestic product per capita Unnamed: 2  \\\n",
       "0                                                NaN                 Year   \n",
       "1                      Total, all countries or areas                 1995   \n",
       "2                      Total, all countries or areas                 2005   \n",
       "3                      Total, all countries or areas                 2010   \n",
       "4                      Total, all countries or areas                 2015   \n",
       "\n",
       "                                       Unnamed: 3  Unnamed: 4 Unnamed: 5  \\\n",
       "0                                          Series       Value  Footnotes   \n",
       "1  GDP in current prices (millions of US dollars)  31,247,262        NaN   \n",
       "2  GDP in current prices (millions of US dollars)  47,730,924        NaN   \n",
       "3  GDP in current prices (millions of US dollars)  66,461,443        NaN   \n",
       "4  GDP in current prices (millions of US dollars)  75,133,208        NaN   \n",
       "\n",
       "                                          Unnamed: 6  \n",
       "0                                             Source  \n",
       "1  United Nations Statistics Division, New York, ...  \n",
       "2  United Nations Statistics Division, New York, ...  \n",
       "3  United Nations Statistics Division, New York, ...  \n",
       "4  United Nations Statistics Division, New York, ...  "
      ]
     },
     "execution_count": 11,
     "metadata": {},
     "output_type": "execute_result"
    }
   ],
   "source": [
    "# Tercer dataset\n",
    "df_3.head()"
   ]
  },
  {
   "cell_type": "code",
   "execution_count": 12,
   "metadata": {},
   "outputs": [
    {
     "name": "stdout",
     "output_type": "stream",
     "text": [
      "<class 'pandas.core.frame.DataFrame'>\n",
      "RangeIndex: 6787 entries, 0 to 6786\n",
      "Data columns (total 7 columns):\n",
      " #   Column                                                        Non-Null Count  Dtype \n",
      "---  ------                                                        --------------  ----- \n",
      " 0   T14                                                           6787 non-null   object\n",
      " 1   Gross domestic product and gross domestic product per capita  6786 non-null   object\n",
      " 2   Unnamed: 2                                                    6787 non-null   object\n",
      " 3   Unnamed: 3                                                    6787 non-null   object\n",
      " 4   Unnamed: 4                                                    6787 non-null   object\n",
      " 5   Unnamed: 5                                                    360 non-null    object\n",
      " 6   Unnamed: 6                                                    6787 non-null   object\n",
      "dtypes: object(7)\n",
      "memory usage: 371.3+ KB\n"
     ]
    }
   ],
   "source": [
    "df_3.info()"
   ]
  },
  {
   "cell_type": "code",
   "execution_count": 13,
   "metadata": {},
   "outputs": [
    {
     "data": {
      "text/html": [
       "<div>\n",
       "<style scoped>\n",
       "    .dataframe tbody tr th:only-of-type {\n",
       "        vertical-align: middle;\n",
       "    }\n",
       "\n",
       "    .dataframe tbody tr th {\n",
       "        vertical-align: top;\n",
       "    }\n",
       "\n",
       "    .dataframe thead th {\n",
       "        text-align: right;\n",
       "    }\n",
       "</style>\n",
       "<table border=\"1\" class=\"dataframe\">\n",
       "  <thead>\n",
       "    <tr style=\"text-align: right;\">\n",
       "      <th></th>\n",
       "      <th>T18</th>\n",
       "      <th>Labour force participation and unemployment</th>\n",
       "      <th>Unnamed: 2</th>\n",
       "      <th>Unnamed: 3</th>\n",
       "      <th>Unnamed: 4</th>\n",
       "      <th>Unnamed: 5</th>\n",
       "      <th>Unnamed: 6</th>\n",
       "    </tr>\n",
       "  </thead>\n",
       "  <tbody>\n",
       "    <tr>\n",
       "      <th>0</th>\n",
       "      <td>Region/Country/Area</td>\n",
       "      <td>NaN</td>\n",
       "      <td>Year</td>\n",
       "      <td>Series</td>\n",
       "      <td>Value</td>\n",
       "      <td>Footnotes</td>\n",
       "      <td>Source</td>\n",
       "    </tr>\n",
       "    <tr>\n",
       "      <th>1</th>\n",
       "      <td>1</td>\n",
       "      <td>Total, all countries or areas</td>\n",
       "      <td>2005</td>\n",
       "      <td>Labour force participation - Total</td>\n",
       "      <td>63.7</td>\n",
       "      <td>Estimate.</td>\n",
       "      <td>International Labour Organization (ILO), Genev...</td>\n",
       "    </tr>\n",
       "    <tr>\n",
       "      <th>2</th>\n",
       "      <td>1</td>\n",
       "      <td>Total, all countries or areas</td>\n",
       "      <td>2005</td>\n",
       "      <td>Unemployment rate - Total</td>\n",
       "      <td>5.9</td>\n",
       "      <td>Estimate.</td>\n",
       "      <td>International Labour Organization (ILO), Genev...</td>\n",
       "    </tr>\n",
       "    <tr>\n",
       "      <th>3</th>\n",
       "      <td>1</td>\n",
       "      <td>Total, all countries or areas</td>\n",
       "      <td>2005</td>\n",
       "      <td>Labour force participation - Male</td>\n",
       "      <td>77.0</td>\n",
       "      <td>Estimate.</td>\n",
       "      <td>International Labour Organization (ILO), Genev...</td>\n",
       "    </tr>\n",
       "    <tr>\n",
       "      <th>4</th>\n",
       "      <td>1</td>\n",
       "      <td>Total, all countries or areas</td>\n",
       "      <td>2005</td>\n",
       "      <td>Unemployment rate - Male</td>\n",
       "      <td>5.7</td>\n",
       "      <td>Estimate.</td>\n",
       "      <td>International Labour Organization (ILO), Genev...</td>\n",
       "    </tr>\n",
       "  </tbody>\n",
       "</table>\n",
       "</div>"
      ],
      "text/plain": [
       "                   T18 Labour force participation and unemployment Unnamed: 2  \\\n",
       "0  Region/Country/Area                                         NaN       Year   \n",
       "1                    1               Total, all countries or areas       2005   \n",
       "2                    1               Total, all countries or areas       2005   \n",
       "3                    1               Total, all countries or areas       2005   \n",
       "4                    1               Total, all countries or areas       2005   \n",
       "\n",
       "                           Unnamed: 3 Unnamed: 4 Unnamed: 5  \\\n",
       "0                              Series      Value  Footnotes   \n",
       "1  Labour force participation - Total       63.7  Estimate.   \n",
       "2           Unemployment rate - Total        5.9  Estimate.   \n",
       "3   Labour force participation - Male       77.0  Estimate.   \n",
       "4            Unemployment rate - Male        5.7  Estimate.   \n",
       "\n",
       "                                          Unnamed: 6  \n",
       "0                                             Source  \n",
       "1  International Labour Organization (ILO), Genev...  \n",
       "2  International Labour Organization (ILO), Genev...  \n",
       "3  International Labour Organization (ILO), Genev...  \n",
       "4  International Labour Organization (ILO), Genev...  "
      ]
     },
     "execution_count": 13,
     "metadata": {},
     "output_type": "execute_result"
    }
   ],
   "source": [
    "# Cuarto dataset\n",
    "df_4.head()"
   ]
  },
  {
   "cell_type": "code",
   "execution_count": 14,
   "metadata": {},
   "outputs": [
    {
     "name": "stdout",
     "output_type": "stream",
     "text": [
      "<class 'pandas.core.frame.DataFrame'>\n",
      "RangeIndex: 5476 entries, 0 to 5475\n",
      "Data columns (total 7 columns):\n",
      " #   Column                                       Non-Null Count  Dtype \n",
      "---  ------                                       --------------  ----- \n",
      " 0   T18                                          5476 non-null   object\n",
      " 1   Labour force participation and unemployment  5475 non-null   object\n",
      " 2   Unnamed: 2                                   5476 non-null   object\n",
      " 3   Unnamed: 3                                   5476 non-null   object\n",
      " 4   Unnamed: 4                                   5476 non-null   object\n",
      " 5   Unnamed: 5                                   3543 non-null   object\n",
      " 6   Unnamed: 6                                   5476 non-null   object\n",
      "dtypes: object(7)\n",
      "memory usage: 299.6+ KB\n"
     ]
    }
   ],
   "source": [
    "df_4.info()"
   ]
  },
  {
   "cell_type": "code",
   "execution_count": 15,
   "metadata": {},
   "outputs": [
    {
     "data": {
      "text/html": [
       "<div>\n",
       "<style scoped>\n",
       "    .dataframe tbody tr th:only-of-type {\n",
       "        vertical-align: middle;\n",
       "    }\n",
       "\n",
       "    .dataframe tbody tr th {\n",
       "        vertical-align: top;\n",
       "    }\n",
       "\n",
       "    .dataframe thead th {\n",
       "        text-align: right;\n",
       "    }\n",
       "</style>\n",
       "<table border=\"1\" class=\"dataframe\">\n",
       "  <thead>\n",
       "    <tr style=\"text-align: right;\">\n",
       "      <th></th>\n",
       "      <th>T27</th>\n",
       "      <th>CO2 emission estimates</th>\n",
       "      <th>Unnamed: 2</th>\n",
       "      <th>Unnamed: 3</th>\n",
       "      <th>Unnamed: 4</th>\n",
       "      <th>Unnamed: 5</th>\n",
       "      <th>Unnamed: 6</th>\n",
       "    </tr>\n",
       "  </thead>\n",
       "  <tbody>\n",
       "    <tr>\n",
       "      <th>0</th>\n",
       "      <td>Region/Country/Area</td>\n",
       "      <td>NaN</td>\n",
       "      <td>Year</td>\n",
       "      <td>Series</td>\n",
       "      <td>Value</td>\n",
       "      <td>Footnotes</td>\n",
       "      <td>Source</td>\n",
       "    </tr>\n",
       "    <tr>\n",
       "      <th>1</th>\n",
       "      <td>8</td>\n",
       "      <td>Albania</td>\n",
       "      <td>1975</td>\n",
       "      <td>Emissions (thousand metric tons of carbon diox...</td>\n",
       "      <td>4,524</td>\n",
       "      <td>NaN</td>\n",
       "      <td>International Energy Agency, IEA World Energy ...</td>\n",
       "    </tr>\n",
       "    <tr>\n",
       "      <th>2</th>\n",
       "      <td>8</td>\n",
       "      <td>Albania</td>\n",
       "      <td>1985</td>\n",
       "      <td>Emissions (thousand metric tons of carbon diox...</td>\n",
       "      <td>7,145</td>\n",
       "      <td>NaN</td>\n",
       "      <td>International Energy Agency, IEA World Energy ...</td>\n",
       "    </tr>\n",
       "    <tr>\n",
       "      <th>3</th>\n",
       "      <td>8</td>\n",
       "      <td>Albania</td>\n",
       "      <td>2005</td>\n",
       "      <td>Emissions (thousand metric tons of carbon diox...</td>\n",
       "      <td>3,981</td>\n",
       "      <td>NaN</td>\n",
       "      <td>International Energy Agency, IEA World Energy ...</td>\n",
       "    </tr>\n",
       "    <tr>\n",
       "      <th>4</th>\n",
       "      <td>8</td>\n",
       "      <td>Albania</td>\n",
       "      <td>2010</td>\n",
       "      <td>Emissions (thousand metric tons of carbon diox...</td>\n",
       "      <td>4,074</td>\n",
       "      <td>NaN</td>\n",
       "      <td>International Energy Agency, IEA World Energy ...</td>\n",
       "    </tr>\n",
       "  </tbody>\n",
       "</table>\n",
       "</div>"
      ],
      "text/plain": [
       "                   T27 CO2 emission estimates Unnamed: 2  \\\n",
       "0  Region/Country/Area                    NaN       Year   \n",
       "1                    8                Albania       1975   \n",
       "2                    8                Albania       1985   \n",
       "3                    8                Albania       2005   \n",
       "4                    8                Albania       2010   \n",
       "\n",
       "                                          Unnamed: 3 Unnamed: 4 Unnamed: 5  \\\n",
       "0                                             Series      Value  Footnotes   \n",
       "1  Emissions (thousand metric tons of carbon diox...      4,524        NaN   \n",
       "2  Emissions (thousand metric tons of carbon diox...      7,145        NaN   \n",
       "3  Emissions (thousand metric tons of carbon diox...      3,981        NaN   \n",
       "4  Emissions (thousand metric tons of carbon diox...      4,074        NaN   \n",
       "\n",
       "                                          Unnamed: 6  \n",
       "0                                             Source  \n",
       "1  International Energy Agency, IEA World Energy ...  \n",
       "2  International Energy Agency, IEA World Energy ...  \n",
       "3  International Energy Agency, IEA World Energy ...  \n",
       "4  International Energy Agency, IEA World Energy ...  "
      ]
     },
     "execution_count": 15,
     "metadata": {},
     "output_type": "execute_result"
    }
   ],
   "source": [
    "df_5.head()"
   ]
  },
  {
   "cell_type": "code",
   "execution_count": 16,
   "metadata": {},
   "outputs": [
    {
     "name": "stdout",
     "output_type": "stream",
     "text": [
      "<class 'pandas.core.frame.DataFrame'>\n",
      "RangeIndex: 2203 entries, 0 to 2202\n",
      "Data columns (total 7 columns):\n",
      " #   Column                  Non-Null Count  Dtype \n",
      "---  ------                  --------------  ----- \n",
      " 0   T27                     2203 non-null   object\n",
      " 1   CO2 emission estimates  2202 non-null   object\n",
      " 2   Unnamed: 2              2203 non-null   object\n",
      " 3   Unnamed: 3              2203 non-null   object\n",
      " 4   Unnamed: 4              2203 non-null   object\n",
      " 5   Unnamed: 5              247 non-null    object\n",
      " 6   Unnamed: 6              2203 non-null   object\n",
      "dtypes: object(7)\n",
      "memory usage: 120.6+ KB\n"
     ]
    }
   ],
   "source": [
    "df_5.info()"
   ]
  }
 ],
 "metadata": {
  "kernelspec": {
   "display_name": "Python 3.7.4 64-bit",
   "language": "python",
   "name": "python3"
  },
  "language_info": {
   "codemirror_mode": {
    "name": "ipython",
    "version": 3
   },
   "file_extension": ".py",
   "mimetype": "text/x-python",
   "name": "python",
   "nbconvert_exporter": "python",
   "pygments_lexer": "ipython3",
   "version": "3.11.3"
  },
  "orig_nbformat": 4,
  "vscode": {
   "interpreter": {
    "hash": "90139cb9a825bf3d63f6f6704e828dbd1ff7edbd4d0c6e906a71235d6efc74af"
   }
  }
 },
 "nbformat": 4,
 "nbformat_minor": 2
}
